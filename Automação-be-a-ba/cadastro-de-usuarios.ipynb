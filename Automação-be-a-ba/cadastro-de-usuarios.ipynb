{
 "cells": [
  {
   "cell_type": "markdown",
   "metadata": {},
   "source": [
    "### Configurando o Selenium"
   ]
  },
  {
   "cell_type": "code",
   "execution_count": 16,
   "metadata": {},
   "outputs": [],
   "source": [
    "from selenium.webdriver.chrome.service import Service\n",
    "from selenium import webdriver\n",
    "\n",
    "path_chromedriver = \"/home/thiago514/Documentos/selenium-chrome/chromedriver-linux64/chromedriver-linux64/chromedriver\"\n",
    "\n",
    "chrome_options = webdriver.ChromeOptions()\n",
    "chrome_options.binary_location = \"/home/thiago514/Documentos/selenium-chrome/chrome-linux64/chrome\"\n",
    "\n",
    "\n",
    "driver = webdriver.Chrome(service=Service(path_chromedriver), options=chrome_options)\n"
   ]
  },
  {
   "cell_type": "markdown",
   "metadata": {},
   "source": [
    "### Carregando os dados dos usuario a serem cadastrados no sistema"
   ]
  },
  {
   "cell_type": "code",
   "execution_count": 21,
   "metadata": {},
   "outputs": [
    {
     "data": {
      "text/plain": [
       "'SenhaSegura123'"
      ]
     },
     "execution_count": 21,
     "metadata": {},
     "output_type": "execute_result"
    }
   ],
   "source": [
    "import pandas as pd\n",
    "\n",
    "df_usuario = pd.read_csv(\"dados_usuario.csv\")\n"
   ]
  },
  {
   "cell_type": "markdown",
   "metadata": {},
   "source": [
    "### Pegando os campos da pagina de cadastro"
   ]
  },
  {
   "cell_type": "code",
   "execution_count": 66,
   "metadata": {},
   "outputs": [],
   "source": [
    "from time import sleep\n",
    "from selenium.webdriver.common.by import By\n",
    "\n",
    "driver.get(\"http://localhost:5173/cadastro\")\n",
    "sleep(1)\n",
    "\n",
    "email_input = driver.find_element(By.XPATH, \"\"\"//*[@id=\"root\"]/div/div/div[1]/input\"\"\")\n",
    "matricula_input = driver.find_element(By.XPATH, \"\"\"//*[@id=\"root\"]/div/div/div[2]/input\"\"\")\n",
    "nome_completo_input = driver.find_element(By.XPATH, \"\"\"//*[@id=\"root\"]/div/div/div[3]/input\"\"\")\n",
    "senha_input = driver.find_element(By.XPATH, \"\"\"//*[@id=\"root\"]/div/div/div[4]/input\"\"\")\n",
    "repetir_senha_input = driver.find_element(By.XPATH, \"\"\"//*[@id=\"root\"]/div/div/div[5]/input\"\"\")\n",
    "cadastrar_button = driver.find_element(By.XPATH, \"\"\"//*[@id=\"root\"]/div/div/div[6]/button[1]\"\"\")\n",
    "\n"
   ]
  },
  {
   "cell_type": "markdown",
   "metadata": {},
   "source": [
    "### cadastrando os usuarios"
   ]
  },
  {
   "cell_type": "code",
   "execution_count": 67,
   "metadata": {},
   "outputs": [],
   "source": [
    "from selenium.webdriver.support.ui import WebDriverWait\n",
    "\n",
    "dados_usuario = pd.read_csv(\"dados_usuario_fake.csv\")\n",
    "\n",
    "for user in dados_usuario.iloc:\n",
    "    email_input.send_keys(user.email)\n",
    "    matricula_input.send_keys(str(user.matricula))\n",
    "    nome_completo_input.send_keys(user[\"nome completo\"])\n",
    "    senha_input.send_keys(user.senha)\n",
    "    repetir_senha_input.send_keys(user[\"repetir senha\"])\n",
    "\n",
    "    sleep(0.5)\n",
    "    cadastrar_button.click()\n",
    "    sleep(0.5)\n",
    "    try:\n",
    "        alert = driver.switch_to.alert\n",
    "        sleep(0.5)\n",
    "        alert.accept()\n",
    "    except:\n",
    "        print(\"não tem nenhum alert\")\n",
    "    sleep(0.5)\n",
    "    email_input.clear()\n",
    "    matricula_input.clear()\n",
    "    nome_completo_input.clear()\n",
    "    senha_input.clear()\n",
    "    repetir_senha_input.clear()\n",
    "\n",
    "\n",
    "\n",
    "    "
   ]
  },
  {
   "cell_type": "markdown",
   "metadata": {},
   "source": [
    "### Gerando um csv com usuarios ficticios"
   ]
  },
  {
   "cell_type": "code",
   "execution_count": 71,
   "metadata": {},
   "outputs": [
    {
     "name": "stdout",
     "output_type": "stream",
     "text": [
      "usuarios criados com sucesso\n"
     ]
    }
   ],
   "source": [
    "import random\n",
    "import faker\n",
    "\n",
    "fake = faker.Faker(\"pt_BR\")\n",
    "\n",
    "df_de_usuarios_fakes = pd.DataFrame(columns=[\"email\", \"matricula\", \"nome completo\", \"senha\", \"repetir senha\"])\n",
    "\n",
    "for i in range(60):\n",
    "    nome = fake.name()\n",
    "    email = fake.email\n",
    "    matricula = i * 1000 + i\n",
    "    senha = fake.password()\n",
    "    df_de_usuarios_fakes.loc[i] = [email, matricula, nome, senha, senha]\n",
    "\n",
    "df_de_usuarios_fakes.to_csv(\"dados_usuario_fake.csv\", index=False)\n",
    "\n",
    "print(\"usuarios criados com sucesso\")"
   ]
  }
 ],
 "metadata": {
  "kernelspec": {
   "display_name": "Python 3",
   "language": "python",
   "name": "python3"
  },
  "language_info": {
   "codemirror_mode": {
    "name": "ipython",
    "version": 3
   },
   "file_extension": ".py",
   "mimetype": "text/x-python",
   "name": "python",
   "nbconvert_exporter": "python",
   "pygments_lexer": "ipython3",
   "version": "3.10.12"
  }
 },
 "nbformat": 4,
 "nbformat_minor": 2
}
