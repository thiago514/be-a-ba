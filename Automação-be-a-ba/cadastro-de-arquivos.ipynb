{
 "cells": [
  {
   "cell_type": "markdown",
   "metadata": {},
   "source": [
    "### Configurando o Selenium"
   ]
  },
  {
   "cell_type": "code",
   "execution_count": 1,
   "metadata": {},
   "outputs": [],
   "source": [
    "from selenium.webdriver.chrome.service import Service\n",
    "from selenium import webdriver\n",
    "\n",
    "path_chromedriver = \"/home/thiago514/Documentos/selenium-chrome/chromedriver-linux64/chromedriver-linux64/chromedriver\"\n",
    "\n",
    "chrome_options = webdriver.ChromeOptions()\n",
    "chrome_options.binary_location = \"/home/thiago514/Documentos/selenium-chrome/chrome-linux64/chrome\"\n",
    "\n",
    "\n",
    "driver = webdriver.Chrome(service=Service(path_chromedriver), options=chrome_options)"
   ]
  },
  {
   "cell_type": "markdown",
   "metadata": {},
   "source": [
    "### Configurando o Login do Usuario"
   ]
  },
  {
   "cell_type": "code",
   "execution_count": 2,
   "metadata": {},
   "outputs": [],
   "source": [
    "import random\n",
    "from selenium.webdriver.common.by import By\n",
    "import pandas as pd\n",
    "from time import sleep\n",
    "\n",
    "def loginUser():\n",
    "    list_users = pd.read_csv(\"dados_usuarios_com_permissao.csv\")\n",
    "\n",
    "    driver.get(\"http://localhost:5173/\")\n",
    "    sleep(1)\n",
    "    campo_matricula = driver.find_element(By.XPATH, \"\"\"//*[@id=\"root\"]/div/div/div[1]/input\"\"\")\n",
    "    campo_senha = driver.find_element(By.XPATH, \"\"\"//*[@id=\"root\"]/div/div/div[2]/input\"\"\")\n",
    "    botao_entrar = driver.find_element(By.XPATH, \"\"\"//*[@id=\"root\"]/div/div/div[3]/button[1]\"\"\")\n",
    "\n",
    "    user = list_users.iloc[random.randint(0, len(list_users) - 1)]\n",
    "\n",
    "    campo_matricula.send_keys(str(user.matricula))\n",
    "    campo_senha.send_keys(str(user.senha))\n",
    "    sleep(1)\n",
    "    botao_entrar.click()\n",
    "    sleep(1)\n",
    "\n",
    "    driver.get(\"http://localhost:5173/cadastro-arquivo\")\n",
    "\n",
    "\n"
   ]
  },
  {
   "cell_type": "markdown",
   "metadata": {},
   "source": [
    "### Preenchendo o Formulario"
   ]
  },
  {
   "cell_type": "code",
   "execution_count": 19,
   "metadata": {},
   "outputs": [],
   "source": [
    "from selenium.webdriver.support.ui import Select\n",
    "\n",
    "def cadastro_arquivo(arquivo):\n",
    "    driver.get(\"http://localhost:5173/cadastro-arquivo\")\n",
    "    sleep(1)\n",
    "\n",
    "    select_template = Select(driver.find_element(By.XPATH, \"\"\"//*[@id=\"root\"]/main/div/div[1]/select\"\"\"))\n",
    "    input_arquivo = driver.find_element(By.XPATH, \"\"\"//*[@id=\"file\"]\"\"\")\n",
    "\n",
    "    nome_template = arquivo.split(\".\")[0]\n",
    "    select_template.select_by_visible_text(nome_template)\n",
    "    caminho_arquivo = \"/home/thiago514/Documentos/QQtech/Automação-be-a-ba/arquivos/\" + arquivo\n",
    "    input_arquivo.send_keys(caminho_arquivo)\n",
    "\n",
    "    salvar_button = driver.find_element(By.XPATH, \"\"\"//*[@id=\"root\"]/main/div/div[2]/div[3]/button\"\"\")\n",
    "    salvar_button.click()\n",
    "    sleep(1)\n",
    "    alert = driver.switch_to.alert\n",
    "    alert.accept()\n",
    "    sleep(1)\n",
    "    \n",
    "    \n",
    "\n"
   ]
  },
  {
   "cell_type": "markdown",
   "metadata": {},
   "source": [
    "### Main"
   ]
  },
  {
   "cell_type": "code",
   "execution_count": 20,
   "metadata": {},
   "outputs": [],
   "source": [
    "lista_arquivos_de_template_ativo = [\"eius.CSV\", \"at.XLSX\", \"original.XLSX\", \"contemplar.XLSX\", \"quebra.CSV\", \"vazio.XLS\"]\n",
    "\n",
    "for i in range(0, 20):   \n",
    "    loginUser()\n",
    "    cadastro_arquivo(random.choice(lista_arquivos_de_template_ativo))\n",
    "    sair_button = driver.find_element(By.XPATH, \"\"\"//*[@id=\"root\"]/header/a\"\"\")\n",
    "    sair_button.click()\n",
    "    sleep(0.5)"
   ]
  }
 ],
 "metadata": {
  "kernelspec": {
   "display_name": "Python 3",
   "language": "python",
   "name": "python3"
  },
  "language_info": {
   "codemirror_mode": {
    "name": "ipython",
    "version": 3
   },
   "file_extension": ".py",
   "mimetype": "text/x-python",
   "name": "python",
   "nbconvert_exporter": "python",
   "pygments_lexer": "ipython3",
   "version": "3.10.12"
  }
 },
 "nbformat": 4,
 "nbformat_minor": 2
}
